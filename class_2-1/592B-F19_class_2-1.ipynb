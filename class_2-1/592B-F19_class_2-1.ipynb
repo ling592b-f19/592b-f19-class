{
 "cells": [
  {
   "cell_type": "code",
   "execution_count": null,
   "metadata": {},
   "outputs": [],
   "source": [
    "%matplotlib inline"
   ]
  },
  {
   "cell_type": "markdown",
   "metadata": {},
   "source": [
    "*(Note: `%matplotlib widget` allows for fancier interactivity in plots than `%matplot inline`, see [github repo](https://github.com/matplotlib/jupyter-matplotlib), if you want to play with that. But it seems a little buggy.*"
   ]
  },
  {
   "cell_type": "markdown",
   "metadata": {},
   "source": [
    "# 592B, Class 2.1. Reading in WAV files and plotting them, Fourier series\n",
    "\n",
    "This will be the jupyter notebook for today's class. To get any updates I make to it after you clone this, do a\n",
    "\n",
    "```bash\n",
    "git pull\n",
    "```\n",
    "\n",
    "command in the root directory of `592b-f19-class/` to get the latest version. That probably shouldn't create any merge conflicts, but if it does, then you'll have a chance to practice your version control skills!\n",
    "\n",
    "## Miscellaneous tips\n",
    "To comment a region of code, highlight it and press: \n",
    "- PCs: `Ctrl` + `/`\n",
    "- Macs: `Cmd` + `/`\n",
    "\n",
    "---\n",
    "\n",
    "Let's get some practice with reading and writing WAV files in python. We'll be working with a sample audio file called `hmong_m6_24_c.wav` in the `rms-sample-sounds` sub-directory in this repository. This is an audio file I recorded from a native speaker of White Hmong in Fresno, California some years ago.\n",
    "\n",
    "We'll be using functions from `scipy.io.wavefile`:\n",
    "- [*scipy.io.wavefile.read*](https://docs.scipy.org/doc/scipy/reference/generated/scipy.io.wavfile.read.html#scipy.io.wavfile.read) reads in a WAV file as a NumPy array (and also returns the sampling rate).\n",
    "- [*scipy.io.wavefile.write*](https://docs.scipy.org/doc/scipy/reference/generated/scipy.io.wavfile.write.html) writes a NumPy array as a WAV file, given a sampling rate and a filename. \n",
    "You'll play with this in your homework for this week."
   ]
  },
  {
   "cell_type": "code",
   "execution_count": null,
   "metadata": {},
   "outputs": [],
   "source": [
    "import numpy as np\n",
    "import matplotlib.pyplot as plt\n",
    "\n",
    "import scipy.io.wavfile as wavfile \n",
    "\n",
    "# As far as I know, scipy.io.wavfile only can handle mono files, and not stereo ones. \n",
    "# The \"wave\" library can handle stereo\n",
    "\n",
    "help(wavfile.read) # uncomment to look at help file for scipy.io.wavfile\n"
   ]
  },
  {
   "cell_type": "markdown",
   "metadata": {},
   "source": [
    "## Reading in a WAV file and listening to it\n",
    "\n",
    "Let's read-in a WAV file using `scipy.io.wavfile.read`."
   ]
  },
  {
   "cell_type": "code",
   "execution_count": null,
   "metadata": {},
   "outputs": [],
   "source": [
    "# From https://stackoverflow.com/questions/18644166/how-to-manipulate-wav-file-data-in-python\n",
    "fs, hmong_data = wavfile.read('rms-sample-sounds/hmong_m6_24_c.wav')\n",
    "print(fs) # print retu\n",
    "\n",
    "\n",
    "type(hmong_data)\n",
    "#getattr(hmong_data)"
   ]
  },
  {
   "cell_type": "markdown",
   "metadata": {},
   "source": [
    "What kind of data type is `hmong_data`? Let's check!"
   ]
  },
  {
   "cell_type": "code",
   "execution_count": null,
   "metadata": {},
   "outputs": [],
   "source": [
    "type(hmong_data)"
   ]
  },
  {
   "cell_type": "markdown",
   "metadata": {},
   "source": [
    "It's an [n-dimensional NumPy array](https://docs.scipy.org/doc/numpy/reference/generated/numpy.ndarray.html). If you go to the documentation page, you can see what `ndarray`'s [attributes](http://greenteapress.com/thinkpython2/html/thinkpython2016.html#sec179) are. "
   ]
  },
  {
   "cell_type": "code",
   "execution_count": null,
   "metadata": {},
   "outputs": [],
   "source": [
    "print(hmong_data.dtype) # data type\n",
    "print(hmong_data.ndim) # number of dimensions\n",
    "print(hmong_data.size) # number of elements in array"
   ]
  },
  {
   "cell_type": "markdown",
   "metadata": {},
   "source": [
    "So, `hmong_data` is a 1-D NumPy array with 35015 elements, which are of [data type](https://docs.scipy.org/doc/numpy-1.10.1/user/basics.types.html) `int16`. \n",
    "\n",
    "The data type `int16` stands for \"integer (-32768 to 32767)\".\n",
    "\n",
    "***In-class exercise: `16` in `int16` stands for 16-bit. \n",
    "Does that fit with the number of amplitude values contained in the range (-32768 to 32767)? Work this out in the cell below.***"
   ]
  },
  {
   "cell_type": "code",
   "execution_count": null,
   "metadata": {},
   "outputs": [],
   "source": []
  },
  {
   "cell_type": "markdown",
   "metadata": {},
   "source": [
    "Now that we've read in `hmong_m6_24_c.wav`, we can also use our `IPython.display.Audio` command from Class 1.2 to play the sound."
   ]
  },
  {
   "cell_type": "code",
   "execution_count": null,
   "metadata": {},
   "outputs": [],
   "source": [
    "from IPython.display import Audio\n",
    "\n",
    "Audio(data=hmong_data, rate=fs)"
   ]
  },
  {
   "cell_type": "markdown",
   "metadata": {},
   "source": [
    "But we might also like to do more with the audio data than just listen to it! And we can do more, since it's been read in as a NumPy array.\n",
    "\n",
    "## Plotting an audio file waveform\n",
    "\n",
    "First, let's plot the first $n$ samples of the audio signal. Here let $n=4096$ samples. (What's going on at the beginning of the audio file---why is it flat?) \n",
    "\n"
   ]
  },
  {
   "cell_type": "code",
   "execution_count": null,
   "metadata": {
    "scrolled": true
   },
   "outputs": [],
   "source": [
    "#https://stackoverflow.com/a/25095962\n",
    "\n",
    "n = 4096 # number of samples to plot\n",
    "\n",
    "# Set up a new figure\n",
    "plt.figure(\"hmong\")\n",
    "\n",
    "# plot the first n samples\n",
    "plt.plot(hmong_data[0:n])\n",
    "# label the axes\n",
    "plt.ylabel(\"Amplitude (dB?)\")\n",
    "plt.xlabel(\"Time(s)\")\n",
    "# set the title  \n",
    "plt.title(\"Hmong wave file\")\n"
   ]
  },
  {
   "cell_type": "markdown",
   "metadata": {},
   "source": [
    "You might be wondering what units the amplitude is in. Remember, these are digitized signals, so this is dependent on the bit depth of the recording--and you already know what that is from `hmong_data.dtype`. In your homework for this week, you'll familiarize yourself with **standardizing** or **normalizing** the amplitude, e.g., into the range -1 to 1, like you see in Praat's display of the waveform. "
   ]
  },
  {
   "cell_type": "markdown",
   "metadata": {},
   "source": [
    "You might have also noticed a problem with the x-axis: that's not really time on the x-axis is it? That's the sample number! \n",
    "\n",
    "So we really should re-label the x-axis as in samples, not in time. Can you make that change?\n"
   ]
  },
  {
   "cell_type": "markdown",
   "metadata": {},
   "source": [
    "We can also convert from samples to time on the x-axis, e.g., in seconds.\n",
    "\n",
    "***In-class exercise: Plot the first second of the Hmong audio file, with a real time axis, i.e., time should be in seconds, not in samples. Hint: knowing the sampling rate will help you do this! I put a cell below for you to get started.***\n",
    "\n",
    "***And if you finish that, can you also write a function that will plot the audio file from some start time `t_start` to some stop time `t_stop`?***"
   ]
  },
  {
   "cell_type": "code",
   "execution_count": null,
   "metadata": {},
   "outputs": [],
   "source": []
  },
  {
   "cell_type": "markdown",
   "metadata": {},
   "source": [
    "In your next homework, you'll also get practice **resampling** the audio using [`scipy.signal`](https://docs.scipy.org/doc/scipy/reference/signal.html) (and maybe 'by hand'!) and writing it to a WAV file.\n"
   ]
  },
  {
   "cell_type": "markdown",
   "metadata": {},
   "source": [
    "## Sine waves and cosine waves\n",
    "\n",
    "Let's review the relation between sine and cosine waves. Let's plot a sine wave and a cosine wave:\n",
    "\n",
    "$$y_{sin} = A \\sin(440\\pi t)$$\n",
    "$$y_{cos} = A \\cos(440\\pi t)$$"
   ]
  },
  {
   "cell_type": "code",
   "execution_count": null,
   "metadata": {},
   "outputs": [],
   "source": [
    "fs = 44100 # define the sampling rate, f_s = 144100 Hz\n",
    "\n",
    "t_start = 0 # We start sampling at t = 0s\n",
    "t_stop =  3 # We stop sampling at t = 3s\n",
    "\n",
    "ns = (t_stop - t_start) * fs + 1\n",
    "print(ns)\n",
    "\n",
    "x = np.linspace(t_start, t_stop, ns)\n",
    "print(len(x))\n",
    "\n",
    "f = 440 # frequency of y_sin\n",
    "\n",
    "\n",
    "y_sin = np.sin(2*np.pi*f*x) #do we need x1 and x2, or common x okay\n",
    "y_cos = np.cos(2*np.pi*f*x)"
   ]
  },
  {
   "cell_type": "code",
   "execution_count": null,
   "metadata": {},
   "outputs": [],
   "source": [
    "plt.figure(\"Sine vs. cosine\")\n",
    "plt.title(\"Sine vs. cosine\")\n",
    "plt.xlim(0,1/f) # What is 1/f?\n",
    "\n",
    "plt.plot(x,y_sin, 'g', label='$y_{sin}$')\n",
    "plt.plot(x,y_cos, 'b', label='$y_{cos}$')\n",
    "\n",
    "plt.legend(loc=\"upper right\") \n",
    "plt.xlabel('Time (s)')\n",
    "plt.ylabel('Amplitude (dB)')\n"
   ]
  },
  {
   "cell_type": "markdown",
   "metadata": {},
   "source": [
    "*** In-class exercise: how could I get the blue line plotted by only modifying the parameters of $y_{sin}(t)$?***"
   ]
  },
  {
   "cell_type": "code",
   "execution_count": null,
   "metadata": {},
   "outputs": [],
   "source": [
    "\n"
   ]
  },
  {
   "cell_type": "markdown",
   "metadata": {},
   "source": [
    "## Adding up sine waves: towards Fourier series\n",
    "\n",
    "Let's take the two sinusoidal signals we worked on last week and in your homework and try adding them up.\n"
   ]
  },
  {
   "cell_type": "code",
   "execution_count": null,
   "metadata": {},
   "outputs": [],
   "source": [
    "fs = 44100 # define the sampling rate, f_s = 100 Hz\n",
    "\n",
    "t_start = 0 # We start sampling at t = 0s\n",
    "t_stop =  10 # We stop sampling at t = 10s\n",
    "\n",
    "ns = (t_stop - t_start) * fs + 1\n",
    "\n",
    "x = np.linspace(t_start, t_stop, ns)\n",
    "\n",
    "\n",
    "f1 = 440 # frequency of y_1(t)\n",
    "f2 = 220 # frequency of y_2(t)\n",
    "\n",
    "y1 = np.sin(2*np.pi*f1*x)\n",
    "y2 = np.sin(2*np.pi*f2*x)\n",
    "\n",
    "y1_plus_y2 = y1+y2\n"
   ]
  },
  {
   "cell_type": "code",
   "execution_count": null,
   "metadata": {},
   "outputs": [],
   "source": [
    "plt.figure(\"Adding up sines\") # Create a new figure\n",
    "\n",
    "plt.xlim(0,0.01)\n",
    "plt.plot(x , y1, \"-g\", label=\"y1\") # plot (x,y1) as a green line\n",
    "plt.plot(x , y2, \"-b\", label=\"y2\") # plot (x,y2) as a blue line\n",
    "plt.plot(x , y1_plus_y2, \"-r\", label=\"y2\") # plot (x,y2) as a blue line\n",
    "\n",
    "\n",
    "#plt.stem(x,y1, 'r', )\n",
    "plt.legend(loc=\"upper right\") \n",
    "plt.xlabel('Time (s)')\n",
    "plt.ylabel('Amplitude (dB)')"
   ]
  },
  {
   "cell_type": "markdown",
   "metadata": {},
   "source": [
    "You should play with setting other parameters! Remember, you can listen to your generated sinusoids too, using `Audio`.\n",
    "\n"
   ]
  }
 ],
 "metadata": {
  "kernelspec": {
   "display_name": "Python 3",
   "language": "python",
   "name": "python3"
  },
  "language_info": {
   "codemirror_mode": {
    "name": "ipython",
    "version": 3
   },
   "file_extension": ".py",
   "mimetype": "text/x-python",
   "name": "python",
   "nbconvert_exporter": "python",
   "pygments_lexer": "ipython3",
   "version": "3.6.9"
  }
 },
 "nbformat": 4,
 "nbformat_minor": 4
}
