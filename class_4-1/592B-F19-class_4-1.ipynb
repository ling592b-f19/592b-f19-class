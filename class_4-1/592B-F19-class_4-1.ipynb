{
 "cells": [
  {
   "cell_type": "code",
   "execution_count": null,
   "metadata": {},
   "outputs": [],
   "source": [
    "%matplotlib inline"
   ]
  },
  {
   "cell_type": "markdown",
   "metadata": {},
   "source": [
    "# 592B, Class 4.1 (09/24).  Aliasing and the Sampling theorem"
   ]
  },
  {
   "cell_type": "code",
   "execution_count": null,
   "metadata": {},
   "outputs": [],
   "source": [
    "import numpy as np\n",
    "import matplotlib.pyplot as plt\n",
    "import scipy.io.wavfile as wavfile \n",
    "import scipy.signal as signal\n",
    "import librosa \n",
    "\n",
    "from ipywidgets import interactive\n",
    "from IPython.display import Audio, display"
   ]
  },
  {
   "cell_type": "markdown",
   "metadata": {},
   "source": [
    "## Aliasing\n",
    "\n",
    "Consider the following function:\n",
    "\n",
    "$$y(t) = \\cos \\left(\\frac{9\\pi}{2}t\\right ) $$\n",
    "\n",
    "***In class-exercise: What is the (fundamental) frequency of $y(t)$?***"
   ]
  },
  {
   "cell_type": "code",
   "execution_count": null,
   "metadata": {
    "jupyter": {
     "source_hidden": true
    }
   },
   "outputs": [],
   "source": [
    "fs = 100 # Sampling rate of 1000 Hz\n",
    "t_start = 0; t_stop = 4\n",
    "ns = int((t_stop - t_start) * fs + 1)\n",
    "x = np.linspace(0,4,ns)\n",
    "y = np.cos(9*np.pi/2*x)\n",
    "\n",
    "plt.figure(\"1000 Hz sampling rate\")\n",
    "plt.plot(x,y)\n",
    "plt.title(\"1000 Hz sampling rate\")\n"
   ]
  },
  {
   "cell_type": "markdown",
   "metadata": {},
   "source": [
    "***In-class exercise: resampling at different rates***\n",
    "\n",
    "Now let's try sampling this signal at some different sampling rates:\n",
    "\n",
    "1. 100 Hz\n",
    "2. 10 Hz\n",
    "3. 1 Hz\n",
    "\n",
    "Here's some sample code for doing 100 Hz. You could of course write a function that takes the desired sampling rate as an argument. Try all three sampling rates, and feel free to try some other as well."
   ]
  },
  {
   "cell_type": "code",
   "execution_count": null,
   "metadata": {},
   "outputs": [],
   "source": [
    "\n",
    "ns_100 = int((t_stop - t_start) * 100 + 1)\n",
    "x_100 = np.linspace(0,4,ns_100)\n",
    "y_100 = np.cos(9*np.pi/2*x_100)\n",
    "\n"
   ]
  },
  {
   "cell_type": "markdown",
   "metadata": {},
   "source": [
    "OK, so let's do some plotting to see what our samples are recovering from the original signal. Here's some sample code for plotting for 100 Hz sampling rate. ***Plot for your other sampling rates, too.***"
   ]
  },
  {
   "cell_type": "code",
   "execution_count": null,
   "metadata": {},
   "outputs": [],
   "source": [
    "plt.figure(\"100 Hz sampling rate, stem plot\")\n",
    "plt.xlim(0,1)\n",
    "plt.plot(x,y)\n",
    "markerline, stemlines, baseline = plt.stem(x_100,y_100, '-.', use_line_collection = True)\n",
    "plt.setp(baseline, 'color', 'r', 'linewidth', 2)\n",
    "\n",
    "\n",
    "plt.figure(\"100 Hz sampling rate, dots\")\n",
    "plt.xlim(0,2)\n",
    "plt.plot(x,y, 'g.', x_100, y_100, 'ro')\n"
   ]
  },
  {
   "cell_type": "markdown",
   "metadata": {},
   "source": [
    "Wow, we sure are missing a lot of data--could we still recover the original signal $y(t)$?\n",
    "\n",
    "$$y(t) = \\cos \\left(\\frac{9\\pi}{2}t\\right ) $$\n",
    "\n",
    "\n",
    "***In-class exercise: can you think of a function $z(t)$ that has the same values as our $y(t)$ at the sampled timepoints when we sample with a rate of 1Hz? If so, plot it together with the original signal and the 1 Hz sampling points.*** \n",
    "\n",
    "To do this, you could change\n",
    "```\n",
    "plt.plot(x,y)\n",
    "```\n",
    "to something like this, where `z` is your definition of $z(t)$ and `x2` is a vector of the sampled time points for 1 Hz sampling rate:\n",
    "\n",
    "```\n",
    "plt.plot(x,y, 'g.', x2, z, 'ro-')\n",
    "```"
   ]
  },
  {
   "cell_type": "code",
   "execution_count": null,
   "metadata": {},
   "outputs": [],
   "source": [
    "plt.figure(\"1 Hz sampling rate, aliasing\")\n",
    "plt.plot(x,y) # change this to add in plot of z(t)\n",
    "markerline, stemlines, baseline = plt.stem(x_1,y_1, '-.', use_line_collection = True) # 1Hz sampling rate"
   ]
  },
  {
   "cell_type": "markdown",
   "metadata": {},
   "source": [
    "***In-class exercise: suppose you sample at a sampling rate of 4.5 Hz. Overlay the stem plot with the original signal for this sampling rate (like the previous plots).***"
   ]
  },
  {
   "cell_type": "markdown",
   "metadata": {},
   "source": [
    "\n",
    "## The sampling theorem\n",
    "\n",
    "The minimal sampling rate that can be used to reconstruct a signal from its samples is two times the frequency of the highest frequency component $\\nu_{max}$ in the signal:\n",
    "\n",
    "   sampling rate $> 2\\nu_{max}$\n",
    "\n",
    "The frequency 2$\\nu_{max}$ is often called the **Nyquist frequency**.\n",
    "\n",
    "***In-class exercise: What is the Nyquist frequency for $y(t)$ below?***\n",
    "\n",
    "$$y(t) = \\cos \\left(\\frac{9\\pi}{2}t\\right ) $$\n"
   ]
  },
  {
   "cell_type": "markdown",
   "metadata": {},
   "source": [
    "So for a complex wave (a sum of sinusoids), increasing the frequency of the highest frequency component $\\nu_{max}$ drives up the required sampling rate for reconstruction. Sometimes there is no highest frequency, e.g., in an infinite series like for a square wave.\n",
    "\n",
    "Here's a intuitive example to play with. Plot a signal composed of a low frequency sinusoid and a high frequency sinusoid. As the gap in frequencies between the two frequency components increases, the resulting complex wave looks closer and closer to the lower frequency component, with lots of squigglies up and down at the frequency of the higher frequency component.\n"
   ]
  },
  {
   "cell_type": "code",
   "execution_count": null,
   "metadata": {},
   "outputs": [],
   "source": [
    "def plot_play_summed_sines(f1 = 440, f2 = 880, t_start = 0, t_stop = 2, fs = 44100, xlim_max = 0.02):\n",
    "    x = np.linspace(t_start, t_stop, fs * (t_stop - t_start))\n",
    "    y1 = np.sin(2*np.pi*f1*x)\n",
    "    y2 = np.sin(2*np.pi*f2*x)\n",
    "    \n",
    "    plt.xlim(t_start,xlim_max)\n",
    "    plt.plot(x , y1, \"-g\", label=\"y1\") \n",
    "    plt.plot(x , y2, \"-b\", label=\"y2\") \n",
    "    plt.plot(x , y1 + y2, \"-r\", label=\"y1+y2\") \n",
    "    plt.legend(loc=\"upper right\") \n",
    "    plt.xlabel('Time (s)')\n",
    "    plt.ylabel('Amplitude (dB)')\n",
    "    plt.title(\"Adding up sines\") \n",
    "    \n",
    "    display(Audio(data=y1, rate=fs))\n",
    "    display(Audio(data=y2, rate=fs))\n",
    "    display(Audio(data=y1+y2, rate=fs))\n",
    "    \n",
    "v = interactive(plot_play_summed_sines, f1=(50,200), f2=(1000,5000), t_start = (0,0), t_stop = (0,5), xlim_max = (0.01,0.1))\n",
    "display(v)    "
   ]
  },
  {
   "cell_type": "markdown",
   "metadata": {},
   "source": [
    "If we **undersample**, we get **aliasing**: two functions may be indistinguishable based on our sampling, and we may recover a lower frequency alias of the actual signal. We can also have [visual aliasing](http://danielwalsh.tumblr.com/post/54400376441/playing-detective-with-rolling-shutter-photos)."
   ]
  },
  {
   "cell_type": "code",
   "execution_count": null,
   "metadata": {},
   "outputs": [],
   "source": []
  }
 ],
 "metadata": {
  "kernelspec": {
   "display_name": "Python 3",
   "language": "python",
   "name": "python3"
  },
  "language_info": {
   "codemirror_mode": {
    "name": "ipython",
    "version": 3
   },
   "file_extension": ".py",
   "mimetype": "text/x-python",
   "name": "python",
   "nbconvert_exporter": "python",
   "pygments_lexer": "ipython3",
   "version": "3.6.9"
  }
 },
 "nbformat": 4,
 "nbformat_minor": 4
}
