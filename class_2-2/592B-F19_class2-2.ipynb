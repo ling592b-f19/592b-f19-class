{
 "cells": [
  {
   "cell_type": "code",
   "execution_count": null,
   "metadata": {},
   "outputs": [],
   "source": [
    "%matplotlib inline"
   ]
  },
  {
   "cell_type": "markdown",
   "metadata": {},
   "source": [
    "# 592B, Class 2.2 (09/12). Fourier series, aliasing, Sampling theorem"
   ]
  },
  {
   "cell_type": "code",
   "execution_count": null,
   "metadata": {},
   "outputs": [],
   "source": [
    "import numpy as np\n",
    "import matplotlib.pyplot as plt\n",
    "import scipy.io.wavfile as wavfile \n",
    "\n",
    "from ipywidgets import interactive\n",
    "from IPython.display import Audio, display"
   ]
  },
  {
   "cell_type": "markdown",
   "metadata": {},
   "source": [
    "## Sine waves and cosine waves\n",
    "\n",
    "Let's review the relation between sine and cosine waves. Let's plot a sine wave and a cosine wave:\n",
    "\n",
    "$$y_{sin} = A \\sin(440\\pi t)$$\n",
    "$$y_{cos} = A \\cos(440\\pi t)$$"
   ]
  },
  {
   "cell_type": "code",
   "execution_count": null,
   "metadata": {},
   "outputs": [],
   "source": [
    "fs = 44100 # define the sampling rate, f_s = 144100 Hz\n",
    "\n",
    "t_start = 0 # We start sampling at t = 0s\n",
    "t_stop =  3 # We stop sampling at t = 3s\n",
    "\n",
    "ns = (t_stop - t_start) * fs + 1\n",
    "print(ns)\n",
    "\n",
    "x = np.linspace(t_start, t_stop, ns)\n",
    "print(len(x))\n",
    "\n",
    "f = 440 # frequency of y_sin\n",
    "\n",
    "\n",
    "y_sin = np.sin(2*np.pi*f*x) #do we need x1 and x2, or common x okay\n",
    "y_cos = np.cos(2*np.pi*f*x)"
   ]
  },
  {
   "cell_type": "code",
   "execution_count": null,
   "metadata": {},
   "outputs": [],
   "source": [
    "plt.figure(\"Sine vs. cosine\")\n",
    "plt.title(\"Sine vs. cosine\")\n",
    "plt.xlim(0,1/f) # What is 1/f?\n",
    "\n",
    "plt.plot(x,y_sin, 'g', label='$y_{sin}$')\n",
    "plt.plot(x,y_cos, 'b', label='$y_{cos}$')\n",
    "\n",
    "plt.legend(loc=\"upper right\") \n",
    "plt.xlabel('Time (s)')\n",
    "plt.ylabel('Amplitude (dB)')\n"
   ]
  },
  {
   "cell_type": "markdown",
   "metadata": {},
   "source": [
    "*** In-class exercise: how could I get the blue line by modifying the parameters of $y_{sin}(t)$?***"
   ]
  },
  {
   "cell_type": "code",
   "execution_count": null,
   "metadata": {},
   "outputs": [],
   "source": [
    "\n"
   ]
  },
  {
   "cell_type": "markdown",
   "metadata": {},
   "source": [
    "## Leftovers from Tuesday: converting between samples and timepoints\n",
    "\n",
    "We read in some Hmong audio and plotted it, as in the cell below."
   ]
  },
  {
   "cell_type": "code",
   "execution_count": null,
   "metadata": {},
   "outputs": [],
   "source": [
    "# From https://stackoverflow.com/questions/18644166/how-to-manipulate-wav-file-data-in-python\n",
    "fs, hmong_data = wavfile.read('rms-sample-sounds/hmong_m6_24_c.wav')\n",
    "\n",
    "\n",
    "n = 4096 # number of samples to plot\n",
    "\n",
    "# Set up a new figure\n",
    "plt.figure(\"hmong\")\n",
    "\n",
    "# plot the first n samples\n",
    "plt.plot(hmong_data[0:n])\n",
    "# label the axes\n",
    "plt.ylabel(\"Amplitude (dB?)\")\n",
    "plt.xlabel(\"Samples [n]\")\n",
    "# set the title  \n",
    "plt.title(\"Hmong wave file\")\n",
    "\n",
    "print(len(hmong_data))\n",
    "print(fs)"
   ]
  },
  {
   "cell_type": "markdown",
   "metadata": {},
   "source": [
    "Then you were working on this:\n",
    "\n",
    "***In-class exercise: Plot the first second of the Hmong audio file, with a real time axis, i.e., time should be in seconds, not in samples. Hint: knowing the sampling rate will help you do this! I put a cell below for you to get started.***\n",
    "\n",
    "***And if you finish that, can you also write a function that will plot the audio file from some start time `t_start` to some stop time `t_stop`?***\n"
   ]
  },
  {
   "cell_type": "code",
   "execution_count": null,
   "metadata": {},
   "outputs": [],
   "source": [
    "# Recall that fs is 22050 Hz. So that means the first second is the first 22050 samples.\n",
    "\n",
    "ns = fs # number of samples is 22050\n",
    "# So we can use np.linspace to define a vector of sampled time points from 0 to 1 seconds.\n",
    "\n",
    "x = np.linspace(0, 1, ns)\n",
    "\n",
    "# Set up a new figure\n",
    "plt.figure(\"hmong with time on x-axis\")\n",
    "\n",
    "# plot the first n samples\n",
    "plt.plot(x, hmong_data[0:ns])\n",
    "# label the axes\n",
    "plt.ylabel(\"Amplitude (dB?)\")\n",
    "plt.xlabel(\"Time (s)\")\n",
    "# set the title  \n",
    "plt.title(\"Hmong wave file with time on x-axis\")\n",
    "\n",
    "# In general, suppose we want to plot the audio from t_start to t_stop.\n",
    "# Then we could do: x = np.linspace(t_start, t_stop, ns)\n",
    "# But what's ns? We did that in the Class 1.2 notebook.\n",
    "# ns = (t_stop - t_start) / Ts + 1 \n",
    "# Or, if we are ignoring the +/- 1 sample, ns = (t_stop - t_start) * fs\n",
    "# So, we can do this:\n",
    "\n",
    "def plot_with_time_axis(t_start, t_stop, fs_data, DEBUG = True, data=hmong_data):\n",
    "    ns = int((t_stop - t_start) * fs_data) # number of samples from t_start to t_stop\n",
    "    if DEBUG: print(\"ns = \", ns)\n",
    "    n_start = int(round(t_start * fs_data)) # sample number corresponding to t_start\n",
    "    if DEBUG: print(\"n_start = \", n_start)\n",
    "    n_stop = int(round(t_stop * fs_data)) # sample number corresponding to t_stop\n",
    "    if DEBUG: \n",
    "        print(\"n_stop = \", n_stop)\n",
    "        print(\"len(data[n_start:n_stop]) = \", len(data[n_start:n_stop]))\n",
    "    x = np.linspace(t_start, t_stop, ns)\n",
    "    if DEBUG: print(\"len(x)= \", len(x))\n",
    "    plt.figure()\n",
    "    plt.plot(x, data[n_start:n_stop])\n",
    "    # label the axes\n",
    "    plt.ylabel(\"Amplitude (dB?)\")\n",
    "    plt.xlabel(\"Time (s)\")\n",
    "\n",
    "plot_with_time_axis(0.5, 0.8, fs)    \n",
    "plot_with_time_axis(0.5, 0.55, fs)  # oops, an error!  Why? \n",
    "\n",
    "# how could we make this code more robust? -> HW\n"
   ]
  },
  {
   "cell_type": "markdown",
   "metadata": {},
   "source": [
    "## Adding up sine waves: towards Fourier series\n",
    "\n",
    "Let's take the two sinusoidal signals we worked on last week and in your homework and try adding them up.\n"
   ]
  },
  {
   "cell_type": "code",
   "execution_count": null,
   "metadata": {},
   "outputs": [],
   "source": [
    "fs = 44100 # define the sampling rate, f_s = 44.1 kHz\n",
    "\n",
    "t_start = 0 # We start sampling at t = 0s\n",
    "t_stop =  1 # We stop sampling at t = 1s\n",
    "\n",
    "ns = (t_stop - t_start) * fs + 1\n",
    "\n",
    "x = np.linspace(t_start, t_stop, ns)\n",
    "\n",
    "\n",
    "f1 = 440 # frequency of y_1(t)\n",
    "f2 = 220 # frequency of y_2(t)\n",
    "\n",
    "y1 = np.sin(2*np.pi*f1*x)\n",
    "y2 = np.sin(2*np.pi*f2*x)\n",
    "\n",
    "y1_plus_y2 = y1+y2\n"
   ]
  },
  {
   "cell_type": "code",
   "execution_count": null,
   "metadata": {},
   "outputs": [],
   "source": [
    "plt.figure(\"Adding up sines\") # Create a new figure\n",
    "\n",
    "plt.xlim(0,0.01)\n",
    "plt.plot(x , y1, \"-g\", label=\"y1\") # plot (x,y1) as a green line\n",
    "plt.plot(x , y2, \"-b\", label=\"y2\") # plot (x,y2) as a blue line\n",
    "plt.plot(x , y1_plus_y2, \"-r\", label=\"y1+y2\") # plot (x,y2) as a blue line\n",
    "\n",
    "\n",
    "#plt.stem(x,y1, 'r', )\n",
    "plt.legend(loc=\"upper right\") \n",
    "plt.xlabel('Time (s)')\n",
    "plt.ylabel('Amplitude (dB)')\n",
    "plt.title(\"Adding up sines\") \n"
   ]
  },
  {
   "cell_type": "markdown",
   "metadata": {},
   "source": [
    "You should play with setting other parameters! Remember, you can listen to your generated sinusoids too, using `Audio`. \n",
    "\n",
    "Below is some code that creates an interactive \"widget\" for both plotting and playing two sine waves and their superposition (sum).\n",
    "\n",
    "You need to import these libraries, as we did at the beginning of the notebook:\n",
    "```python\n",
    "from ipywidgets import interactive\n",
    "from IPython.display import Audio, display\n",
    "```\n",
    "The code is inspired by this [beat frequencies demo](https://ipywidgets.readthedocs.io/en/stable/examples/Beat%20Frequencies.html)."
   ]
  },
  {
   "cell_type": "code",
   "execution_count": null,
   "metadata": {},
   "outputs": [],
   "source": [
    "def plot_play_summed_sines(f1 = 440, f2 = 880, t_start = 0, t_stop = 2, fs = 44100, xlim_max = 0.01):\n",
    "    x = np.linspace(t_start, t_stop, fs * (t_stop - t_start))\n",
    "    y1 = np.sin(2*np.pi*f1*x)\n",
    "    y2 = np.sin(2*np.pi*f2*x)\n",
    "    \n",
    "    plt.xlim(t_start,xlim_max)\n",
    "    plt.plot(x , y1, \"-g\", label=\"y1\") \n",
    "    plt.plot(x , y2, \"-b\", label=\"y2\") \n",
    "    plt.plot(x , y1 + y2, \"-r\", label=\"y1+y2\") \n",
    "    plt.legend(loc=\"upper right\") \n",
    "    plt.xlabel('Time (s)')\n",
    "    plt.ylabel('Amplitude (dB)')\n",
    "    plt.title(\"Adding up sines\") \n",
    "    \n",
    "    display(Audio(data=y1, rate=fs))\n",
    "    display(Audio(data=y2, rate=fs))\n",
    "    display(Audio(data=y1+y2, rate=fs))"
   ]
  },
  {
   "cell_type": "code",
   "execution_count": null,
   "metadata": {},
   "outputs": [],
   "source": [
    "v = interactive(plot_play_summed_sines, f1=(100,900), f2=(100,900), t_start = (0,0), t_stop = (0,5))\n",
    "display(v)"
   ]
  },
  {
   "cell_type": "markdown",
   "metadata": {},
   "source": [
    "\n",
    "\n",
    "## A first look at Fourier series\n",
    "\n",
    "Recall from last week that a standard definition of a sinusoidal signal (i.e., a sine wave) is given as function of time $t$:\n",
    "\n",
    "$$y(t) = A \\sin (\\omega t + \\phi) $$\n",
    "\n",
    "where:\n",
    "- $A$ is the amplitude\n",
    "- $\\omega$ is the angular frequency, n.b., $\\omega = 2\\pi f$ (where $f$ is the frequency in cycles per second (Hertz or Hz))\n",
    "- $\\phi$ is the phase shift \n",
    "\n",
    "One standard definition of a Fourier series is:\n",
    "\n",
    "\\begin{equation}\n",
    "      f(t) = a_0 + \\displaystyle\\sum\\limits_{n=1}^N \\left(a_n\\cos(2\\pi nt) + b_n\\sin(2\\pi nt)\\right)\n",
    "\\end{equation}\n",
    "\n",
    "where\n",
    "\n",
    "$n \\in \\mathbb{Z}$, and $a_0 \\ldots a_N$ and $b_0 \\ldots b_N$ are called **Fourier coefficients**. Note that these are amplitude values for each component sinusoidal function in the sum: they provide weights for the individual components in the sum. We'll see later that these determine the amplitude of peaks in a spectrum of $f(t)$.\n",
    "\n",
    "***Discussion: Why is there no $b_0$ in the formula?***"
   ]
  },
  {
   "cell_type": "markdown",
   "metadata": {},
   "source": [
    "Let's see what each of the individual $a_n\\cos(2\\pi nt) + b_n\\sin(2\\pi nt)$ terms look like, for $a_n = b_n = 1$ for all $n$, for $n <6$, otherwise 0. And let's include the $a_0$ term by starting at $N=0$."
   ]
  },
  {
   "cell_type": "code",
   "execution_count": null,
   "metadata": {},
   "outputs": [],
   "source": [
    "# Inspired by https://matplotlib.org/examples/pylab_examples/subplots_demo.html Three subplots sharing both x/y axes\n",
    "\n",
    "t_start = 0; t_stop = 1; fs = 1000\n",
    "x = np.linspace(t_start, t_stop, fs * (t_stop - t_start))\n",
    "y = [np.sin(2*np.pi*n*x) + np.cos(2*np.pi*n*x) for n in np.arange(0,6)]\n",
    "\n",
    "f_fourier_series, (ax1, ax2, ax3, ax4, ax5, ax6) = plt.subplots(6, sharex=True, sharey=True)\n",
    "ax1.plot(x , y[0], \"-\", label=\"n = 0\")\n",
    "ax1.set_title('Fourier series up to N = 5, a_n = b_n = 1')\n",
    "ax2.plot(x , y[1], \"-\", label=\"n = 1\")\n",
    "ax3.plot(x , y[2], \"-\", label=\"n = 2\")\n",
    "ax4.plot(x , y[3], \"-\", label=\"n = 3\")\n",
    "ax5.plot(x , y[4], \"-\", label=\"n = 4\")\n",
    "ax6.plot(x , y[5], \"-\", label=\"n = 5\")\n",
    "\n",
    "plt.xlabel('Time (s)')\n",
    "plt.ylabel('Amplitude (dB)')\n",
    "\n",
    "# Fine-tune figure; make subplots close to each other and hide x ticks for\n",
    "# all but bottom plot.\n",
    "f_fourier_series.subplots_adjust(hspace=0)\n",
    "plt.setp([a.get_xticklabels() for a in f_fourier_series.axes[:-1]], visible=False)\n"
   ]
  },
  {
   "cell_type": "markdown",
   "metadata": {},
   "source": [
    "These are the first 6 terms in a **set of basis functions**, in particular, the **Fourier basis functions**. Each term, for some given $N$, is a basis function. In the limit, as $N \\rightarrow \\infty$ we can approximate any function with this set of basis functions. And each of the basis functions are **orthogonal** to one another. For intuition, we'll review vector spaces and orthogonal vectors.\n",
    "\n",
    "Below, we \"multiply\" one basis function by another to illustrate orthogonality: the integral of the product of any two of the basis functions is 0."
   ]
  },
  {
   "cell_type": "code",
   "execution_count": null,
   "metadata": {},
   "outputs": [],
   "source": [
    "t_start = 0; t_stop = 3; fs = 1000\n",
    "x = np.linspace(t_start, t_stop, fs * (t_stop - t_start))\n",
    "y = [np.sin(2*np.pi*f*x) + np.cos(2*np.pi*f*x) for f in np.arange(0,6)]\n",
    "\n",
    "f_ortho, (ax1, ax2, ax3, ax4, ax5, ax6) = plt.subplots(6, sharex=True, sharey=True)\n",
    "ax1.plot(x , y[1]*y[2], \"-\", label=\"n = 0\")\n",
    "ax1.plot((t_start, t_stop), (0, 0), 'r-')\n",
    "ax1.set_title('Fourier series up to N = 5, a_n = b_n = 1')\n",
    "ax2.plot(x , y[1]*y[3], \"-\", label=\"n = 1\")\n",
    "ax2.plot((t_start, t_stop), (0, 0), 'r-')\n",
    "ax3.plot(x , y[2]*y[3], \"-\", label=\"n = 2\")\n",
    "ax3.plot((t_start, t_stop), (0, 0), 'r-')\n",
    "ax4.plot(x , y[3]*y[4], \"-\", label=\"n = 3\")\n",
    "ax4.plot((t_start, t_stop), (0, 0), 'r-')\n",
    "ax5.plot(x , y[4]*y[5], \"-\", label=\"n = 4\")\n",
    "ax5.plot((t_start, t_stop), (0, 0), 'r-')\n",
    "ax6.plot(x , y[5]*y[1], \"-\", label=\"n = 5\")\n",
    "ax6.plot((t_start, t_stop), (0, 0), 'r-')\n",
    "\n",
    "plt.xlabel('Time (s)')\n",
    "plt.ylabel('Amplitude (dB)')\n",
    "\n",
    "# Fine-tune figure; make subplots close to each other and hide x ticks for\n",
    "# all but bottom plot.\n",
    "f_ortho.subplots_adjust(hspace=0)\n",
    "plt.setp([a.get_xticklabels() for a in f_ortho.axes[:-1]], visible=False)\n"
   ]
  },
  {
   "cell_type": "markdown",
   "metadata": {},
   "source": [
    "In your homework, you'll explore building up a complex wave as a Fourier series."
   ]
  }
 ],
 "metadata": {
  "kernelspec": {
   "display_name": "Python 3",
   "language": "python",
   "name": "python3"
  },
  "language_info": {
   "codemirror_mode": {
    "name": "ipython",
    "version": 3
   },
   "file_extension": ".py",
   "mimetype": "text/x-python",
   "name": "python",
   "nbconvert_exporter": "python",
   "pygments_lexer": "ipython3",
   "version": "3.6.9"
  }
 },
 "nbformat": 4,
 "nbformat_minor": 4
}
